{
  "nbformat": 4,
  "nbformat_minor": 0,
  "metadata": {
    "colab": {
      "provenance": []
    },
    "kernelspec": {
      "name": "python3",
      "display_name": "Python 3"
    },
    "language_info": {
      "name": "python"
    }
  },
  "cells": [
    {
      "cell_type": "code",
      "execution_count": null,
      "metadata": {
        "colab": {
          "base_uri": "https://localhost:8080/",
          "height": 265
        },
        "id": "DInCnRW_nQMt",
        "outputId": "e8f2c6da-59d8-4cb3-9284-381d6fd1acaa"
      },
      "outputs": [
        {
          "output_type": "display_data",
          "data": {
            "text/plain": [
              "<Figure size 432x288 with 1 Axes>"
            ],
            "image/png": "[encoded data removed]"
          },
          "metadata": {}
        }
      ],
      "source": [
        "import matplotlib.pyplot as plt\n",
        "from matplotlib import style\n",
        "import numpy as np\n",
        "from sklearn.cluster import KMeans\n",
        "style.use('ggplot')\n",
        "\n",
        "\n",
        "X = np.array([[1, 2],\n",
        "              [1.8, 1.2],\n",
        "              [4.1, 3.2],\n",
        "              [10, 16],\n",
        "              [19, 25],\n",
        "              [2, 4],\n",
        "              [9, 12],\n",
        "              [18, 23]])\n",
        "\n",
        "\n",
        "clf = KMeans(n_clusters=3)\n",
        "clf.fit(X)\n",
        "\n",
        "\n",
        "centroids = clf.cluster_centers_\n",
        "labels = clf.labels_\n",
        "\n",
        "\n",
        "colors = [\"g.\",\"b.\",\"c.\",\"y.\"]\n",
        "for i in range(len(X)):\n",
        "    plt.plot(X[i][0], X[i][1], colors[labels[i]], markersize = 13)\n",
        "plt.scatter(centroids[:, 0],centroids[:, 1], marker = \"*\", s=100, linewidths = 5, zorder = 5)\n",
        "plt.show()"
      ]
    }
  ]
}